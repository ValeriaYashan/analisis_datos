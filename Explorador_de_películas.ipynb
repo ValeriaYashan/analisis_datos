{
  "nbformat": 4,
  "nbformat_minor": 0,
  "metadata": {
    "colab": {
      "provenance": [],
      "authorship_tag": "ABX9TyP3CQnqRBmfDvdIcoqg4AFt",
      "include_colab_link": true
    },
    "kernelspec": {
      "name": "python3",
      "display_name": "Python 3"
    },
    "language_info": {
      "name": "python"
    }
  },
  "cells": [
    {
      "cell_type": "markdown",
      "metadata": {
        "id": "view-in-github",
        "colab_type": "text"
      },
      "source": [
        "<a href=\"https://colab.research.google.com/github/ValeriaYashan/analisis_datos/blob/main/Explorador_de_pel%C3%ADculas.ipynb\" target=\"_parent\"><img src=\"https://colab.research.google.com/assets/colab-badge.svg\" alt=\"Open In Colab\"/></a>"
      ]
    },
    {
      "cell_type": "code",
      "execution_count": 41,
      "metadata": {
        "colab": {
          "base_uri": "https://localhost:8080/"
        },
        "id": "ZGnyZn25fLou",
        "outputId": "c78bfa43-feda-4fed-b588-ce9fd5d17ef2"
      },
      "outputs": [
        {
          "output_type": "stream",
          "name": "stdout",
          "text": [
            "Requirement already satisfied: dash in /usr/local/lib/python3.10/dist-packages (2.15.0)\n",
            "Requirement already satisfied: Flask<3.1,>=1.0.4 in /usr/local/lib/python3.10/dist-packages (from dash) (2.2.5)\n",
            "Requirement already satisfied: Werkzeug<3.1 in /usr/local/lib/python3.10/dist-packages (from dash) (3.0.1)\n",
            "Requirement already satisfied: plotly>=5.0.0 in /usr/local/lib/python3.10/dist-packages (from dash) (5.15.0)\n",
            "Requirement already satisfied: dash-html-components==2.0.0 in /usr/local/lib/python3.10/dist-packages (from dash) (2.0.0)\n",
            "Requirement already satisfied: dash-core-components==2.0.0 in /usr/local/lib/python3.10/dist-packages (from dash) (2.0.0)\n",
            "Requirement already satisfied: dash-table==5.0.0 in /usr/local/lib/python3.10/dist-packages (from dash) (5.0.0)\n",
            "Requirement already satisfied: typing-extensions>=4.1.1 in /usr/local/lib/python3.10/dist-packages (from dash) (4.5.0)\n",
            "Requirement already satisfied: requests in /usr/local/lib/python3.10/dist-packages (from dash) (2.31.0)\n",
            "Requirement already satisfied: retrying in /usr/local/lib/python3.10/dist-packages (from dash) (1.3.4)\n",
            "Requirement already satisfied: nest-asyncio in /usr/local/lib/python3.10/dist-packages (from dash) (1.6.0)\n",
            "Requirement already satisfied: setuptools in /usr/local/lib/python3.10/dist-packages (from dash) (67.7.2)\n",
            "Requirement already satisfied: importlib-metadata in /usr/local/lib/python3.10/dist-packages (from dash) (7.0.1)\n",
            "Requirement already satisfied: Jinja2>=3.0 in /usr/local/lib/python3.10/dist-packages (from Flask<3.1,>=1.0.4->dash) (3.1.3)\n",
            "Requirement already satisfied: itsdangerous>=2.0 in /usr/local/lib/python3.10/dist-packages (from Flask<3.1,>=1.0.4->dash) (2.1.2)\n",
            "Requirement already satisfied: click>=8.0 in /usr/local/lib/python3.10/dist-packages (from Flask<3.1,>=1.0.4->dash) (8.1.7)\n",
            "Requirement already satisfied: tenacity>=6.2.0 in /usr/local/lib/python3.10/dist-packages (from plotly>=5.0.0->dash) (8.2.3)\n",
            "Requirement already satisfied: packaging in /usr/local/lib/python3.10/dist-packages (from plotly>=5.0.0->dash) (23.2)\n",
            "Requirement already satisfied: MarkupSafe>=2.1.1 in /usr/local/lib/python3.10/dist-packages (from Werkzeug<3.1->dash) (2.1.4)\n",
            "Requirement already satisfied: zipp>=0.5 in /usr/local/lib/python3.10/dist-packages (from importlib-metadata->dash) (3.17.0)\n",
            "Requirement already satisfied: charset-normalizer<4,>=2 in /usr/local/lib/python3.10/dist-packages (from requests->dash) (3.3.2)\n",
            "Requirement already satisfied: idna<4,>=2.5 in /usr/local/lib/python3.10/dist-packages (from requests->dash) (3.6)\n",
            "Requirement already satisfied: urllib3<3,>=1.21.1 in /usr/local/lib/python3.10/dist-packages (from requests->dash) (2.0.7)\n",
            "Requirement already satisfied: certifi>=2017.4.17 in /usr/local/lib/python3.10/dist-packages (from requests->dash) (2023.11.17)\n",
            "Requirement already satisfied: six>=1.7.0 in /usr/local/lib/python3.10/dist-packages (from retrying->dash) (1.16.0)\n",
            "Requirement already satisfied: plotly in /usr/local/lib/python3.10/dist-packages (5.15.0)\n",
            "Requirement already satisfied: tenacity>=6.2.0 in /usr/local/lib/python3.10/dist-packages (from plotly) (8.2.3)\n",
            "Requirement already satisfied: packaging in /usr/local/lib/python3.10/dist-packages (from plotly) (23.2)\n"
          ]
        }
      ],
      "source": [
        "!pip install dash\n",
        "!pip install plotly\n",
        "import dash\n",
        "from dash import dcc, html\n",
        "from dash.dependencies import Input, Output\n",
        "import plotly.express as px\n",
        "import pandas as pd\n",
        "import sqlite3"
      ]
    },
    {
      "cell_type": "code",
      "source": [
        "import csv\n",
        "\n",
        "# Datos de películas\n",
        "movies_data = [\n",
        "    {'Title': 'The Shawshank Redemption', 'Year': 1994, 'Genre': 'Drama', 'Director': 'Frank Darabont'},\n",
        "    {'Title': 'The Godfather', 'Year': 1972, 'Genre': 'Crime', 'Director': 'Francis Ford Coppola'},\n",
        "    {'Title': 'The Dark Knight', 'Year': 2008, 'Genre': 'Action', 'Director': 'Christopher Nolan'},\n",
        "    {'Title': 'Schindler\\'s List', 'Year': 1993, 'Genre': 'Biography', 'Director': 'Steven Spielberg'},\n",
        "    {'Title': 'Pulp Fiction', 'Year': 1994, 'Genre': 'Crime', 'Director': 'Quentin Tarantino'}\n",
        "]\n",
        "\n",
        "# Escribir datos en un archivo CSV\n",
        "with open('movies.csv', 'w', newline='', encoding='utf-8') as csvfile:\n",
        "    fieldnames = ['Title', 'Year', 'Genre', 'Director']\n",
        "    writer = csv.DictWriter(csvfile, fieldnames=fieldnames)\n",
        "    writer.writeheader()\n",
        "    for movie in movies_data:\n",
        "        writer.writerow(movie)"
      ],
      "metadata": {
        "id": "8yajjyeTjy4B"
      },
      "execution_count": 46,
      "outputs": []
    },
    {
      "cell_type": "code",
      "source": [
        "# Datos de películas a agregar\n",
        "new_movies_data = [\n",
        "    {'Title': 'Forrest Gump', 'Year': 1994, 'Genre': 'Drama', 'Director': 'Robert Zemeckis'},\n",
        "    {'Title': 'The Lord of the Rings: The Return of the King', 'Year': 2003, 'Genre': 'Adventure', 'Director': 'Peter Jackson'},\n",
        "    {'Title': 'The Matrix', 'Year': 1999, 'Genre': 'Action', 'Director': 'Lana Wachowski, Lilly Wachowski'},\n",
        "    {'Title': 'Inception', 'Year': 2010, 'Genre': 'Action', 'Director': 'Christopher Nolan'},\n",
        "    {'Title': 'Fight Club', 'Year': 1999, 'Genre': 'Drama', 'Director': 'David Fincher'},\n",
        "    {'Title': 'The Lord of the Rings: The Fellowship of the Ring', 'Year': 2001, 'Genre': 'Adventure', 'Director': 'Peter Jackson'},\n",
        "    {'Title': 'The Silence of the Lambs', 'Year': 1991, 'Genre': 'Crime', 'Director': 'Jonathan Demme'},\n",
        "    {'Title': 'The Shawshank Redemption', 'Year': 1994, 'Genre': 'Drama', 'Director': 'Frank Darabont'},\n",
        "    {'Title': 'The Godfather: Part II', 'Year': 1974, 'Genre': 'Crime', 'Director': 'Francis Ford Coppola'},\n",
        "    {'Title': 'The Green Mile', 'Year': 1999, 'Genre': 'Crime', 'Director': 'Frank Darabont'},\n",
        "    {'Title': 'Goodfellas', 'Year': 1990, 'Genre': 'Biography', 'Director': 'Martin Scorsese'},\n",
        "    {'Title': 'The Lord of the Rings: The Two Towers', 'Year': 2002, 'Genre': 'Adventure', 'Director': 'Peter Jackson'},\n",
        "    {'Title': 'Se7en', 'Year': 1995, 'Genre': 'Crime', 'Director': 'David Fincher'},\n",
        "    {'Title': 'The Silence of the Lambs', 'Year': 1991, 'Genre': 'Crime', 'Director': 'Jonathan Demme'},\n",
        "    {'Title': 'The Pianist', 'Year': 2002, 'Genre': 'Biography', 'Director': 'Roman Polanski'},\n",
        "    {'Title': 'The Departed', 'Year': 2006, 'Genre': 'Crime', 'Director': 'Martin Scorsese'},\n",
        "    {'Title': 'Gladiator', 'Year': 2000, 'Genre': 'Action', 'Director': 'Ridley Scott'},\n",
        "    {'Title': 'The Prestige', 'Year': 2006, 'Genre': 'Drama', 'Director': 'Christopher Nolan'},\n",
        "    {'Title': 'American History X', 'Year': 1998, 'Genre': 'Drama', 'Director': 'Tony Kaye'},\n",
        "    {'Title': 'The Lion King', 'Year': 1994, 'Genre': 'Animation', 'Director': 'Roger Allers, Rob Minkoff'},\n",
        "    {'Title': 'Saving Private Ryan', 'Year': 1998, 'Genre': 'Drama', 'Director': 'Steven Spielberg'},\n",
        "    {'Title': 'The Sixth Sense', 'Year': 1999, 'Genre': 'Drama', 'Director': 'M. Night Shyamalan'},\n",
        "    {'Title': 'The Intouchables', 'Year': 2011, 'Genre': 'Biography', 'Director': 'Olivier Nakache, Éric Toledano'},\n",
        "    {'Title': 'The Departed', 'Year': 2006, 'Genre': 'Crime', 'Director': 'Martin Scorsese'},\n",
        "    {'Title': 'The Green Mile', 'Year': 1999, 'Genre': 'Crime', 'Director': 'Frank Darabont'},\n",
        "    {'Title': 'The Lives of Others', 'Year': 2006, 'Genre': 'Drama', 'Director': 'Florian Henckel von Donnersmarck'}\n",
        "]\n",
        "\n",
        "# Abrir el archivo CSV original en modo de escritura (append) y agregar nuevos datos\n",
        "with open('movies.csv', 'a', newline='', encoding='utf-8') as csvfile:\n",
        "    fieldnames = ['Title', 'Year', 'Genre', 'Director']\n",
        "    writer = csv.DictWriter(csvfile, fieldnames=fieldnames)\n",
        "    # Escribir los nuevos datos\n",
        "    for movie in new_movies_data:\n",
        "        writer.writerow(movie)"
      ],
      "metadata": {
        "id": "BDyVQCsvl-hM"
      },
      "execution_count": 47,
      "outputs": []
    },
    {
      "cell_type": "code",
      "source": [
        "# Cargar los datos de películas desde un archivo CSV\n",
        "df = pd.read_csv('movies.csv')\n",
        "\n",
        "# Inicializar la aplicación Dash\n",
        "app = dash.Dash(__name__)\n",
        "\n",
        "# Estilos CSS personalizados\n",
        "external_stylesheets = ['https://codepen.io/chriddyp/pen/bWLwgP.css']\n",
        "\n",
        "# Definir el diseño de la aplicación\n",
        "app.layout = html.Div([\n",
        "    html.H1(\"Explorador de Películas\", style={'textAlign': 'center', 'marginBottom': '30px', 'color': '#333'}),  # Título del proyecto\n",
        "\n",
        "    # Filtro para seleccionar género\n",
        "    html.Div([\n",
        "        html.Label(\"Género:\", style={'fontWeight': 'bold', 'marginRight': '10px'}),\n",
        "        dcc.Dropdown(id='genre-dropdown',\n",
        "                     options=[{'label': genre, 'value': genre} for genre in df['Genre'].unique()],\n",
        "                     value=df['Genre'].unique()[0],  # Valor predeterminado: primer género en la lista\n",
        "                     style={'width': '50%', 'marginRight': '20px'})\n",
        "    ], style={'marginBottom': '30px'}),\n",
        "\n",
        "    # Tabla de datos de películas\n",
        "    html.Div(id='data-table', style={'maxWidth': '800px', 'margin': 'auto'})\n",
        "])\n",
        "\n",
        "# Definir la lógica de la aplicación para actualizar la tabla de datos según el género seleccionado\n",
        "@app.callback(\n",
        "    Output('data-table', 'children'),\n",
        "    [Input('genre-dropdown', 'value')]\n",
        ")\n",
        "def update_data_table(selected_genre):\n",
        "    # Filtrar el DataFrame de películas según el género seleccionado\n",
        "    filtered_df = df[df['Genre'] == selected_genre]\n",
        "\n",
        "    # Crear una tabla de datos con Dash HTML Components\n",
        "    table = html.Table([\n",
        "        html.Thead(html.Tr([html.Th(col) for col in filtered_df.columns]), style={'backgroundColor': '#f2f2f2'}),  # Encabezados de la tabla\n",
        "        html.Tbody([\n",
        "            html.Tr([html.Td(filtered_df.iloc[i][col]) for col in filtered_df.columns])  # Filas de datos\n",
        "            for i in range(min(len(filtered_df), 10))  # Mostrar solo las primeras 10 filas\n",
        "        ])\n",
        "    ], style={'borderCollapse': 'collapse', 'border': '1px solid #ddd', 'width': '100%', 'textAlign': 'left'})\n",
        "\n",
        "    return table\n",
        "\n",
        "# Ejecutar la aplicación\n",
        "if __name__ == '__main__':\n",
        "    app.run_server(debug=True, external_stylesheets=external_stylesheets)"
      ],
      "metadata": {
        "colab": {
          "base_uri": "https://localhost:8080/",
          "height": 672
        },
        "id": "UdttLAIzuL36",
        "outputId": "adc9aa18-aae8-49de-e947-6a05065eff8a"
      },
      "execution_count": 48,
      "outputs": [
        {
          "output_type": "display_data",
          "data": {
            "text/plain": [
              "<IPython.core.display.Javascript object>"
            ],
            "application/javascript": [
              "(async (port, path, width, height, cache, element) => {\n",
              "    if (!google.colab.kernel.accessAllowed && !cache) {\n",
              "      return;\n",
              "    }\n",
              "    element.appendChild(document.createTextNode(''));\n",
              "    const url = await google.colab.kernel.proxyPort(port, {cache});\n",
              "    const iframe = document.createElement('iframe');\n",
              "    iframe.src = new URL(path, url).toString();\n",
              "    iframe.height = height;\n",
              "    iframe.width = width;\n",
              "    iframe.style.border = 0;\n",
              "    iframe.allow = [\n",
              "        'accelerometer',\n",
              "        'autoplay',\n",
              "        'camera',\n",
              "        'clipboard-read',\n",
              "        'clipboard-write',\n",
              "        'gyroscope',\n",
              "        'magnetometer',\n",
              "        'microphone',\n",
              "        'serial',\n",
              "        'usb',\n",
              "        'xr-spatial-tracking',\n",
              "    ].join('; ');\n",
              "    element.appendChild(iframe);\n",
              "  })(8050, \"/\", \"100%\", 650, false, window.element)"
            ]
          },
          "metadata": {}
        }
      ]
    },
    {
      "cell_type": "markdown",
      "source": [
        "GUARDAR EN BASE DE DATOS"
      ],
      "metadata": {
        "id": "GLl1cY2MyAR_"
      }
    },
    {
      "cell_type": "code",
      "source": [
        "# Conexión a la base de datos SQLite\n",
        "conn = sqlite3.connect('movies.db')\n",
        "\n",
        "# Crear una tabla de películas si no existe\n",
        "conn.execute('''CREATE TABLE IF NOT EXISTS movies (\n",
        "                    Title TEXT,\n",
        "                    Year INTEGER,\n",
        "                    Genre TEXT,\n",
        "                    Director TEXT\n",
        "                )''')\n",
        "\n",
        "# Insertar datos de películas en la tabla\n",
        "for movie in df.to_dict('records'):\n",
        "    conn.execute('''INSERT INTO movies (Title, Year, Genre, Director)\n",
        "                    VALUES (?, ?, ?, ?)''', (movie['Title'], movie['Year'], movie['Genre'], movie['Director']))\n",
        "\n",
        "# Guardar los cambios y cerrar la conexión\n",
        "conn.commit()\n",
        "conn.close()"
      ],
      "metadata": {
        "id": "aO9qFs--rmNE"
      },
      "execution_count": 49,
      "outputs": []
    },
    {
      "cell_type": "code",
      "source": [
        "# Inicializar la aplicación Dash\n",
        "app = dash.Dash(__name__)\n",
        "\n",
        "# Estilos CSS personalizados\n",
        "external_stylesheets = ['https://codepen.io/chriddyp/pen/bWLwgP.css']\n",
        "\n",
        "# Definir el diseño de la aplicación\n",
        "app.layout = html.Div([\n",
        "    html.H1(\"Explorador de Películas\", style={'textAlign': 'center', 'marginBottom': '30px', 'color': '#333'}),  # Título del proyecto\n",
        "\n",
        "    # Botón para actualizar los datos de la base de datos\n",
        "    html.Button(\"Actualizar Datos\", id=\"update-button\", n_clicks=0, style={'marginBottom': '20px'}),\n",
        "\n",
        "    # Botón para borrar los filtros\n",
        "    html.Button(\"Borrar Filtros\", id=\"clear-filters-button\", n_clicks=0, style={'marginBottom': '20px', 'marginLeft': '20px'}),\n",
        "\n",
        "    # Tabla de datos de películas\n",
        "    html.Div(id='data-table', style={'maxWidth': '800px', 'margin': 'auto'})\n",
        "])\n",
        "\n",
        "# Definir la función para obtener los datos de la base de datos\n",
        "def get_data_from_database():\n",
        "    # Conexión a la base de datos SQLite\n",
        "    conn = sqlite3.connect('movies.db')\n",
        "    # Ejecutar una consulta SQL para obtener todos los datos de la tabla de películas\n",
        "    df = pd.read_sql_query(\"SELECT * FROM movies\", conn)\n",
        "    # Cerrar la conexión\n",
        "    conn.close()\n",
        "    return df\n",
        "\n",
        "# Definir la lógica de la aplicación para mostrar los datos de la base de datos en una tabla\n",
        "@app.callback(\n",
        "    Output('data-table', 'children'),\n",
        "    [Input('update-button', 'n_clicks'),\n",
        "     Input('clear-filters-button', 'n_clicks')]\n",
        ")\n",
        "def update_data_table(update_clicks, clear_clicks):\n",
        "    # Obtener los datos de la base de datos\n",
        "    df = get_data_from_database()\n",
        "\n",
        "    # Si se hace clic en el botón \"Borrar Filtros\", restablecer los filtros\n",
        "    if clear_clicks > 0:\n",
        "        # Aquí puedes agregar la lógica para restablecer los filtros\n",
        "        print(\"Filtros borrados\")\n",
        "\n",
        "    # Crear una tabla de datos con Dash HTML Components\n",
        "    table = html.Table([\n",
        "        html.Thead(html.Tr([html.Th(col) for col in df.columns])),  # Encabezados de la tabla\n",
        "        html.Tbody([\n",
        "            html.Tr([html.Td(df.iloc[i][col]) for col in df.columns])  # Filas de datos\n",
        "            for i in range(len(df))\n",
        "        ])\n",
        "    ], style={'borderCollapse': 'collapse', 'border': '1px solid #ddd', 'width': '100%', 'textAlign': 'left'})\n",
        "\n",
        "    return table\n",
        "\n",
        "# Ejecutar la aplicación\n",
        "if __name__ == '__main__':\n",
        "    app.run_server(debug=True, external_stylesheets=external_stylesheets)"
      ],
      "metadata": {
        "colab": {
          "base_uri": "https://localhost:8080/",
          "height": 672
        },
        "id": "vSzMhfJKzdHf",
        "outputId": "795c1bc0-ccaa-455c-86ee-ebd6d193b8e4"
      },
      "execution_count": 51,
      "outputs": [
        {
          "output_type": "display_data",
          "data": {
            "text/plain": [
              "<IPython.core.display.Javascript object>"
            ],
            "application/javascript": [
              "(async (port, path, width, height, cache, element) => {\n",
              "    if (!google.colab.kernel.accessAllowed && !cache) {\n",
              "      return;\n",
              "    }\n",
              "    element.appendChild(document.createTextNode(''));\n",
              "    const url = await google.colab.kernel.proxyPort(port, {cache});\n",
              "    const iframe = document.createElement('iframe');\n",
              "    iframe.src = new URL(path, url).toString();\n",
              "    iframe.height = height;\n",
              "    iframe.width = width;\n",
              "    iframe.style.border = 0;\n",
              "    iframe.allow = [\n",
              "        'accelerometer',\n",
              "        'autoplay',\n",
              "        'camera',\n",
              "        'clipboard-read',\n",
              "        'clipboard-write',\n",
              "        'gyroscope',\n",
              "        'magnetometer',\n",
              "        'microphone',\n",
              "        'serial',\n",
              "        'usb',\n",
              "        'xr-spatial-tracking',\n",
              "    ].join('; ');\n",
              "    element.appendChild(iframe);\n",
              "  })(8050, \"/\", \"100%\", 650, false, window.element)"
            ]
          },
          "metadata": {}
        }
      ]
    }
  ]
}