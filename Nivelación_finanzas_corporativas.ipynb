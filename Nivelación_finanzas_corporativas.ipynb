{
  "nbformat": 4,
  "nbformat_minor": 0,
  "metadata": {
    "colab": {
      "provenance": [],
      "authorship_tag": "ABX9TyPBhcyYx5kuEemEwJZ4JXIf",
      "include_colab_link": true
    },
    "kernelspec": {
      "name": "python3",
      "display_name": "Python 3"
    },
    "language_info": {
      "name": "python"
    }
  },
  "cells": [
    {
      "cell_type": "markdown",
      "metadata": {
        "id": "view-in-github",
        "colab_type": "text"
      },
      "source": [
        "<a href=\"https://colab.research.google.com/github/ValeriaYashan/analisis_datos/blob/main/Nivelaci%C3%B3n_finanzas_corporativas.ipynb\" target=\"_parent\"><img src=\"https://colab.research.google.com/assets/colab-badge.svg\" alt=\"Open In Colab\"/></a>"
      ]
    },
    {
      "cell_type": "code",
      "execution_count": 28,
      "metadata": {
        "colab": {
          "base_uri": "https://localhost:8080/"
        },
        "id": "voM5GtgigkZr",
        "outputId": "ce8b1524-1c0b-4636-f6ed-c26433032025"
      },
      "outputs": [
        {
          "output_type": "stream",
          "name": "stdout",
          "text": [
            "Requirement already satisfied: numpy-financial in /usr/local/lib/python3.10/dist-packages (1.0.0)\n",
            "Requirement already satisfied: numpy>=1.15 in /usr/local/lib/python3.10/dist-packages (from numpy-financial) (1.26.4)\n"
          ]
        }
      ],
      "source": [
        "# Importamos la librería numpy para realizar cálculos matemáticos\n",
        "import numpy as np\n",
        "!pip install numpy-financial\n",
        "import numpy_financial as npf\n"
      ]
    },
    {
      "cell_type": "markdown",
      "source": [
        "VALOR PRESENTE Y VALOR FUTURO\n"
      ],
      "metadata": {
        "id": "VnPFjuqLisxa"
      }
    },
    {
      "cell_type": "code",
      "source": [
        "\n",
        "# Definimos una función para calcular el Valor Futuro (VF) a partir del Valor Presente (VP)\n",
        "def valor_futuro(vp, tasa, n):\n",
        "    \"\"\"\n",
        "    Calcula el Valor Futuro (VF).\n",
        "\n",
        "    :param vp: Valor Presente\n",
        "    :param tasa: Tasa por periodo (en decimal)\n",
        "    :param n: Número de periodos\n",
        "    :return: Valor Futuro\n",
        "    \"\"\"\n",
        "    # La fórmula del Valor Futuro es VF = VP * (1 + tasa)^n\n",
        "    return vp * (1 + tasa) ** n\n",
        "\n",
        "# Definimos una función para calcular el Valor Presente (VP) a partir del Valor Futuro (VF)\n",
        "def valor_presente(vf, tasa, n):\n",
        "    \"\"\"\n",
        "    Calcula el Valor Presente (VP).\n",
        "\n",
        "    :param vf: Valor Futuro\n",
        "    :param tasa: Tasa por periodo (en decimal)\n",
        "    :param n: Número de periodos\n",
        "    :return: Valor Presente\n",
        "    \"\"\"\n",
        "    # La fórmula del Valor Presente es VP = VF / (1 + tasa)^n\n",
        "    return vf / (1 + tasa) ** n"
      ],
      "metadata": {
        "id": "1rkZvudviwo7"
      },
      "execution_count": 29,
      "outputs": []
    },
    {
      "cell_type": "markdown",
      "source": [
        "VAN y TIR"
      ],
      "metadata": {
        "id": "nV3AXwDLihPT"
      }
    },
    {
      "cell_type": "code",
      "source": [
        "def calcular_van(tasa_descuento, flujos_de_caja):\n",
        "    \"\"\"\n",
        "    Calcula el Valor Actual Neto (VAN).\n",
        "\n",
        "    :param tasa_descuento: Tasa de descuento (en decimal)\n",
        "    :param flujos_de_caja: Lista de flujos de caja, donde el primer valor es la inversión inicial\n",
        "    :return: Valor Actual Neto (VAN)\n",
        "    \"\"\"\n",
        "    # Usamos numpy_financial para calcular el VAN\n",
        "    van = npf.npv(tasa_descuento, flujos_de_caja)\n",
        "    return van\n"
      ],
      "metadata": {
        "id": "5pV3tOQji3Nt"
      },
      "execution_count": 37,
      "outputs": []
    },
    {
      "cell_type": "code",
      "source": [
        "def calcular_tir(flujos_de_caja):\n",
        "    \"\"\"\n",
        "    Calcula la Tasa Interna de Retorno (TIR).\n",
        "\n",
        "    :param flujos_de_caja: Lista de flujos de caja, donde el primer valor es la inversión inicial\n",
        "    :return: Tasa Interna de Retorno (TIR)\n",
        "    \"\"\"\n",
        "    # Usamos numpy_financial para calcular la TIR\n",
        "    tir = npf.irr(flujos_de_caja)\n",
        "    return tir\n"
      ],
      "metadata": {
        "id": "EzR66rd3jB7M"
      },
      "execution_count": 38,
      "outputs": []
    },
    {
      "cell_type": "markdown",
      "source": [
        "TASAS"
      ],
      "metadata": {
        "id": "6Nmk8WydlJSc"
      }
    },
    {
      "cell_type": "code",
      "source": [
        "# Definimos una función para convertir una Tasa Nominal en una Tasa Efectiva\n",
        "def tasa_efectiva(tasa_nominal, n):\n",
        "    \"\"\"\n",
        "    Convierte una Tasa Nominal en una Tasa Efectiva.\n",
        "\n",
        "    :param tasa_nominal: Tasa Nominal (en decimal)\n",
        "    :param n: Número de periodos de capitalización por año\n",
        "    :return: Tasa Efectiva por periodo\n",
        "    \"\"\"\n",
        "    # La fórmula de la Tasa Efectiva es TE = (1 + TN/n)^n - 1\n",
        "    return (1 + tasa_nominal / n) ** n - 1\n",
        "\n",
        "# Definimos una función para convertir una Tasa Efectiva en una Tasa Nominal\n",
        "def tasa_nominal(tasa_efectiva, n):\n",
        "    \"\"\"\n",
        "    Convierte una Tasa Efectiva en una Tasa Nominal.\n",
        "\n",
        "    :param tasa_efectiva: Tasa Efectiva (en decimal)\n",
        "    :param n: Número de periodos de capitalización por año\n",
        "    :return: Tasa Nominal por periodo\n",
        "    \"\"\"\n",
        "    # La fórmula de la Tasa Nominal es TN = n * [(1 + TE)^(1/n) - 1]\n",
        "    return n * ((1 + tasa_efectiva) ** (1/n) - 1)\n",
        "\n",
        "# Definimos una función para convertir una tasa efectiva de un periodo a otra tasa equivalente en otro periodo\n",
        "def tasa_equivalente(tasa, periodo_origen, periodo_destino):\n",
        "    \"\"\"\n",
        "    Convierte una tasa efectiva de un periodo a otra tasa equivalente en otro periodo.\n",
        "\n",
        "    :param tasa: Tasa efectiva original (en decimal)\n",
        "    :param periodo_origen: Número de periodos de la tasa original por año\n",
        "    :param periodo_destino: Número de periodos deseados por año\n",
        "    :return: Tasa equivalente en el periodo destino\n",
        "    \"\"\"\n",
        "    # La fórmula de la Tasa Equivalente es TE_destino = (1 + TE_origen)^(periodo_origen/periodo_destino) - 1\n",
        "    return (1 + tasa) ** (periodo_origen / periodo_destino) - 1\n"
      ],
      "metadata": {
        "id": "sLjn75sflAAD"
      },
      "execution_count": null,
      "outputs": []
    },
    {
      "cell_type": "markdown",
      "source": [
        "INGRESO DE DATOS PARA CALCULAR"
      ],
      "metadata": {
        "id": "5mh5OPcti34z"
      }
    },
    {
      "cell_type": "code",
      "source": [
        "# Ejemplo 1: Calcular Valor Futuro\n",
        "vp = 1500  # Valor Presente\n",
        "tasa = 0.06  # Tasa de interés (expresada en decimal)\n",
        "n = 4/3  #  periodos de tiempo\n",
        "\n",
        "# Llamamos a la función valor_futuro() para calcular el Valor Futuro\n",
        "vf = valor_futuro(vp, tasa, n)\n",
        "# Imprimimos el resultado del Valor Futuro\n",
        "print(f\"Valor Futuro: {vf:.2f}\")\n",
        "\n"
      ],
      "metadata": {
        "colab": {
          "base_uri": "https://localhost:8080/"
        },
        "id": "9fqT7GvRh3L2",
        "outputId": "d9fbf5e4-05d1-41e2-acb0-96336cb772d4"
      },
      "execution_count": 39,
      "outputs": [
        {
          "output_type": "stream",
          "name": "stdout",
          "text": [
            "Valor Futuro: 1621.18\n"
          ]
        }
      ]
    },
    {
      "cell_type": "code",
      "source": [
        "# Ejemplo 2: Calcular Valor Presente\n",
        "vf = 2000  # Valor Futuro de 2000 unidades monetarias\n",
        "tasa = 0.05  # Tasa de interés del 5% (expresada en decimal)\n",
        "n = 10  # 10 periodos de tiempo\n",
        "\n",
        "# Llamamos a la función valor_presente() para calcular el Valor Presente\n",
        "vp = valor_presente(vf, tasa, n)\n",
        "# Imprimimos el resultado del Valor Presente\n",
        "print(f\"Valor Presente: {vp:.2f}\")"
      ],
      "metadata": {
        "colab": {
          "base_uri": "https://localhost:8080/"
        },
        "id": "uPG9xKq7iPWu",
        "outputId": "d434e163-012a-438a-c37b-29b805cc4390"
      },
      "execution_count": 40,
      "outputs": [
        {
          "output_type": "stream",
          "name": "stdout",
          "text": [
            "Valor Presente: 1227.83\n"
          ]
        }
      ]
    },
    {
      "cell_type": "code",
      "source": [
        "#VAN y TIR\n",
        "\n",
        "# Ejemplo de flujos de caja: inversión inicial y flujos futuros\n",
        "flujos_de_caja = [-1000, 200, 300, 400, 500, 600]  # La inversión inicial es -1000 (salida de efectivo)\n",
        "\n",
        "# Definimos una tasa de descuento del 10%\n",
        "tasa_descuento = 0.12\n",
        "\n",
        "# Calculamos el VAN\n",
        "van = calcular_van(tasa_descuento, flujos_de_caja)\n",
        "print(f\"Valor Actual Neto (VAN): {van:.2f}\")\n",
        "\n",
        "# Calculamos la TIR\n",
        "tir = calcular_tir(flujos_de_caja)\n",
        "print(f\"Tasa Interna de Retorno (TIR): {tir:.4f}\")\n"
      ],
      "metadata": {
        "colab": {
          "base_uri": "https://localhost:8080/"
        },
        "id": "-qN-vHCnkFVr",
        "outputId": "3fe2ced6-bc64-4aaf-eb5f-69167482ddd2"
      },
      "execution_count": 42,
      "outputs": [
        {
          "output_type": "stream",
          "name": "stdout",
          "text": [
            "Valor Actual Neto (VAN): 360.66\n",
            "Tasa Interna de Retorno (TIR): 0.2329\n"
          ]
        }
      ]
    },
    {
      "cell_type": "markdown",
      "source": [
        "TASAS"
      ],
      "metadata": {
        "id": "8uFxsEHAkmJM"
      }
    },
    {
      "cell_type": "code",
      "source": [
        "# Ejemplo 3: Convertir Tasa Nominal a Efectiva\n",
        "tasa_nom = 0.10  # Tasa Nominal del 10% (expresada en decimal)\n",
        "n = 12  # Capitalización mensual (12 periodos por año)\n",
        "\n",
        "# Llamamos a la función tasa_efectiva() para convertir la Tasa Nominal en Tasa Efectiva\n",
        "tasa_ef = tasa_efectiva(tasa_nom, n)\n",
        "# Imprimimos el resultado de la Tasa Efectiva\n",
        "print(f\"Tasa Efectiva: {tasa_ef:.4f}\")\n",
        "\n",
        "# Ejemplo 4: Convertir Tasa Efectiva a Nominal\n",
        "tasa_ef = 0.1268  # Tasa Efectiva del 12.68% (expresada en decimal)\n",
        "n = 12  # Capitalización mensual (12 periodos por año)\n",
        "\n",
        "# Llamamos a la función tasa_nominal() para convertir la Tasa Efectiva en Tasa Nominal\n",
        "tasa_nom = tasa_nominal(tasa_ef, n)\n",
        "# Imprimimos el resultado de la Tasa Nominal\n",
        "print(f\"Tasa Nominal: {tasa_nom:.4f}\")"
      ],
      "metadata": {
        "id": "Srdc_FMQlDND"
      },
      "execution_count": null,
      "outputs": []
    },
    {
      "cell_type": "markdown",
      "source": [],
      "metadata": {
        "id": "f0ApgV7Yk8nz"
      }
    }
  ]
}